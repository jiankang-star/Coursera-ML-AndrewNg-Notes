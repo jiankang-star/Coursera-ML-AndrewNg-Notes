{
 "cells": [
  {
   "cell_type": "code",
   "execution_count": 3,
   "id": "c62c15c9",
   "metadata": {},
   "outputs": [],
   "source": [
    "import numpy as np\n",
    "import pandas as pd\n",
    "import seaborn as sns\n",
    "import matplotlib.pyplot as plt\n",
    "import scipy.io as sio"
   ]
  },
  {
   "cell_type": "markdown",
   "id": "eb89a187",
   "metadata": {},
   "source": [
    "# 1. Multi-class Classification"
   ]
  },
  {
   "cell_type": "code",
   "execution_count": 4,
   "id": "a89fdf80",
   "metadata": {},
   "outputs": [],
   "source": [
    "def load_data(path, transpose = True):\n",
    "    data = sio.loadmat(path)\n",
    "    y = data.get('y') # (5000, 1)\n",
    "    y = y.reshape(y.shape[0])\n",
    "    \n",
    "    X = data.get('X') # (5000, 400)\n",
    "    \n",
    "    if transpose:\n",
    "        X = np.array([im.reshape(20, 20).T for im in X])\n",
    "        X = np.array([im.reshape(400) for im in X])\n",
    "    return X, y"
   ]
  },
  {
   "cell_type": "code",
   "execution_count": 9,
   "id": "d950fb99",
   "metadata": {},
   "outputs": [
    {
     "name": "stdout",
     "output_type": "stream",
     "text": [
      "(5000, 400)\n",
      "(5000,)\n"
     ]
    }
   ],
   "source": [
    "X, y = load_data('ex3data1.mat', True)\n",
    "print(X.shape)\n",
    "print(y.shape)"
   ]
  },
  {
   "cell_type": "code",
   "execution_count": 6,
   "id": "3f442a0b",
   "metadata": {},
   "outputs": [
    {
     "name": "stdout",
     "output_type": "stream",
     "text": [
      "(5000, 400)\n",
      "(5000,)\n"
     ]
    }
   ],
   "source": [
    "X, y = load_data('ex3data1.mat', False)\n",
    "print(X.shape)\n",
    "print(y.shape)"
   ]
  }
 ],
 "metadata": {
  "kernelspec": {
   "display_name": "Python 3 (ipykernel)",
   "language": "python",
   "name": "python3"
  },
  "language_info": {
   "codemirror_mode": {
    "name": "ipython",
    "version": 3
   },
   "file_extension": ".py",
   "mimetype": "text/x-python",
   "name": "python",
   "nbconvert_exporter": "python",
   "pygments_lexer": "ipython3",
   "version": "3.7.11"
  }
 },
 "nbformat": 4,
 "nbformat_minor": 5
}
